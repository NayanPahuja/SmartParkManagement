{
  "nbformat": 4,
  "nbformat_minor": 0,
  "metadata": {
    "colab": {
      "provenance": [],
      "gpuType": "T4"
    },
    "kernelspec": {
      "name": "python3",
      "display_name": "Python 3"
    },
    "language_info": {
      "name": "python"
    },
    "accelerator": "GPU"
  },
  "cells": [
    {
      "cell_type": "code",
      "source": [
        "!pip install easyocr"
      ],
      "metadata": {
        "id": "N9DDU7OHCRBs",
        "colab": {
          "base_uri": "https://localhost:8080/"
        },
        "outputId": "cea79984-3854-4515-d9d6-f513c84f66f7"
      },
      "execution_count": null,
      "outputs": [
        {
          "output_type": "stream",
          "name": "stdout",
          "text": [
            "Requirement already satisfied: easyocr in /usr/local/lib/python3.10/dist-packages (1.7.2)\n",
            "Requirement already satisfied: torch in /usr/local/lib/python3.10/dist-packages (from easyocr) (2.5.0+cu121)\n",
            "Requirement already satisfied: torchvision>=0.5 in /usr/local/lib/python3.10/dist-packages (from easyocr) (0.20.0+cu121)\n",
            "Requirement already satisfied: opencv-python-headless in /usr/local/lib/python3.10/dist-packages (from easyocr) (4.10.0.84)\n",
            "Requirement already satisfied: scipy in /usr/local/lib/python3.10/dist-packages (from easyocr) (1.13.1)\n",
            "Requirement already satisfied: numpy in /usr/local/lib/python3.10/dist-packages (from easyocr) (1.26.4)\n",
            "Requirement already satisfied: Pillow in /usr/local/lib/python3.10/dist-packages (from easyocr) (10.4.0)\n",
            "Requirement already satisfied: scikit-image in /usr/local/lib/python3.10/dist-packages (from easyocr) (0.24.0)\n",
            "Requirement already satisfied: python-bidi in /usr/local/lib/python3.10/dist-packages (from easyocr) (0.6.3)\n",
            "Requirement already satisfied: PyYAML in /usr/local/lib/python3.10/dist-packages (from easyocr) (6.0.2)\n",
            "Requirement already satisfied: Shapely in /usr/local/lib/python3.10/dist-packages (from easyocr) (2.0.6)\n",
            "Requirement already satisfied: pyclipper in /usr/local/lib/python3.10/dist-packages (from easyocr) (1.3.0.post6)\n",
            "Requirement already satisfied: ninja in /usr/local/lib/python3.10/dist-packages (from easyocr) (1.11.1.1)\n",
            "Requirement already satisfied: filelock in /usr/local/lib/python3.10/dist-packages (from torch->easyocr) (3.16.1)\n",
            "Requirement already satisfied: typing-extensions>=4.8.0 in /usr/local/lib/python3.10/dist-packages (from torch->easyocr) (4.12.2)\n",
            "Requirement already satisfied: networkx in /usr/local/lib/python3.10/dist-packages (from torch->easyocr) (3.4.2)\n",
            "Requirement already satisfied: jinja2 in /usr/local/lib/python3.10/dist-packages (from torch->easyocr) (3.1.4)\n",
            "Requirement already satisfied: fsspec in /usr/local/lib/python3.10/dist-packages (from torch->easyocr) (2024.10.0)\n",
            "Requirement already satisfied: sympy==1.13.1 in /usr/local/lib/python3.10/dist-packages (from torch->easyocr) (1.13.1)\n",
            "Requirement already satisfied: mpmath<1.4,>=1.1.0 in /usr/local/lib/python3.10/dist-packages (from sympy==1.13.1->torch->easyocr) (1.3.0)\n",
            "Requirement already satisfied: imageio>=2.33 in /usr/local/lib/python3.10/dist-packages (from scikit-image->easyocr) (2.36.0)\n",
            "Requirement already satisfied: tifffile>=2022.8.12 in /usr/local/lib/python3.10/dist-packages (from scikit-image->easyocr) (2024.9.20)\n",
            "Requirement already satisfied: packaging>=21 in /usr/local/lib/python3.10/dist-packages (from scikit-image->easyocr) (24.1)\n",
            "Requirement already satisfied: lazy-loader>=0.4 in /usr/local/lib/python3.10/dist-packages (from scikit-image->easyocr) (0.4)\n",
            "Requirement already satisfied: MarkupSafe>=2.0 in /usr/local/lib/python3.10/dist-packages (from jinja2->torch->easyocr) (3.0.2)\n"
          ]
        }
      ]
    },
    {
      "cell_type": "code",
      "source": [
        "! pip install sqlite-ulid sqlite-jsonschema sqlite-fastrand sqlite-xsv"
      ],
      "metadata": {
        "id": "3E0iFSjkPL_9",
        "colab": {
          "base_uri": "https://localhost:8080/"
        },
        "outputId": "18671d8e-f1cc-4156-a229-2e890d27765a"
      },
      "execution_count": null,
      "outputs": [
        {
          "output_type": "stream",
          "name": "stdout",
          "text": [
            "Requirement already satisfied: sqlite-ulid in /usr/local/lib/python3.10/dist-packages (0.2.1)\n",
            "Requirement already satisfied: sqlite-jsonschema in /usr/local/lib/python3.10/dist-packages (0.2.3)\n",
            "Requirement already satisfied: sqlite-fastrand in /usr/local/lib/python3.10/dist-packages (0.2.1)\n",
            "Requirement already satisfied: sqlite-xsv in /usr/local/lib/python3.10/dist-packages (0.2.0)\n"
          ]
        }
      ]
    },
    {
      "cell_type": "markdown",
      "source": [
        "**download folder from:-**\n",
        "https://drive.google.com/drive/folders/1R94Hm8JkgteKLMnngm4QzsXvvPIdWUdV?usp=sharing"
      ],
      "metadata": {
        "id": "_-qeAMSZ0EfT"
      }
    },
    {
      "cell_type": "code",
      "source": [
        "%cd ..\n",
        "from google.colab import drive\n",
        "drive.mount('/content/gdrive')\n",
        "\n",
        "#download link given above and save in your drive"
      ],
      "metadata": {
        "id": "z2B2YDCqnh1i",
        "colab": {
          "base_uri": "https://localhost:8080/"
        },
        "outputId": "f3b93ed7-809e-40c6-eb96-a820bf75d13d"
      },
      "execution_count": null,
      "outputs": [
        {
          "output_type": "stream",
          "name": "stdout",
          "text": [
            "/content/gdrive/MyDrive\n",
            "Drive already mounted at /content/gdrive; to attempt to forcibly remount, call drive.mount(\"/content/gdrive\", force_remount=True).\n"
          ]
        }
      ]
    },
    {
      "cell_type": "code",
      "source": [
        "!ln -s /content/gdrive/My\\ Drive/ /mydrive\n",
        "%cd /mydrive/AI project"
      ],
      "metadata": {
        "id": "JrS5LhbTnkPD",
        "colab": {
          "base_uri": "https://localhost:8080/"
        },
        "outputId": "94fab97f-c81d-43b9-ff93-9ea8a93f3487"
      },
      "execution_count": null,
      "outputs": [
        {
          "output_type": "stream",
          "name": "stdout",
          "text": [
            "ln: failed to create symbolic link '/mydrive/My Drive': File exists\n",
            "/content/gdrive/My Drive/AI project\n"
          ]
        }
      ]
    },
    {
      "cell_type": "code",
      "execution_count": null,
      "metadata": {
        "id": "tJNp8csWCHzx"
      },
      "outputs": [],
      "source": [
        "import cv2\n",
        "import numpy as np\n",
        "import os.path\n",
        "import easyocr\n",
        "from matplotlib import pyplot as plt\n",
        "import sqlite3\n",
        "import datetime"
      ]
    },
    {
      "cell_type": "code",
      "source": [
        "classesFile = \"./names.txt\"\n",
        "classNames = []\n",
        "with open(classesFile, 'rt') as f:\n",
        "    classNames = f.read().rstrip('\\n').split('\\n')\n",
        "modelConfiguration = './yolov4-custom.cfg'\n",
        "modelWeights = './yolov4-custom_best.weights'\n",
        "\n",
        "net = cv2.dnn.readNetFromDarknet(modelConfiguration, modelWeights)\n",
        "net.setPreferableBackend(cv2.dnn.DNN_BACKEND_OPENCV)\n",
        "net.setPreferableTarget(cv2.dnn.DNN_TARGET_CPU)"
      ],
      "metadata": {
        "id": "R5g0WLv2nv2N"
      },
      "execution_count": null,
      "outputs": []
    },
    {
      "cell_type": "code",
      "source": [
        "def remove_special_chars(s):\n",
        "    # make a array of char you want to remove\n",
        "    special_chars = ['.', ',', '-', '_', '\\\\', '/',' ',';','[',']',':',\"'\"]\n",
        "    for char in special_chars:\n",
        "      # replce the char with ''\n",
        "        s = s.replace(char, '')\n",
        "    return s\n",
        "\n",
        "def most_frequent_string(arr):\n",
        "    # Initialize a dictionary to count the frequency of each string\n",
        "    freq = {}\n",
        "\n",
        "    # Loop through the array and count the frequency of each string\n",
        "    for string in arr:\n",
        "        if string in freq:\n",
        "            freq[string] += 1\n",
        "        else:\n",
        "            freq[string] = 1\n",
        "\n",
        "    # Find the string with the highest frequency\n",
        "    max_freq = 0\n",
        "    most_freq_string = \"\"\n",
        "    for string in freq:\n",
        "        if freq[string] > max_freq:\n",
        "            max_freq = freq[string]\n",
        "            most_freq_string = string\n",
        "\n",
        "    # Return the most frequent string\n",
        "    return most_freq_string\n"
      ],
      "metadata": {
        "id": "Sw-jJAuxhkqI"
      },
      "execution_count": null,
      "outputs": []
    },
    {
      "cell_type": "code",
      "source": [
        "def findObjects(outputs, img,end):\n",
        "    hT, wT, cT = img.shape\n",
        "    bbox = []\n",
        "    classIds = []\n",
        "    confs = []\n",
        "\n",
        "    for output in outputs:\n",
        "        for det in output:\n",
        "            scores = det[5:]\n",
        "            classId = np.argmax(scores)\n",
        "            confidence = scores[classId]\n",
        "            if confidence > confThreshold:\n",
        "                w, h = int(det[2]*wT), int(det[3]*hT)\n",
        "                x, y = int((det[0]*wT) - w/2), int((det[1]*hT) - h/2)\n",
        "                bbox.append([x, y, w, h])\n",
        "                classIds.append(classId)\n",
        "                confs.append(float(confidence))\n",
        "    indices = cv2.dnn.NMSBoxes(bbox, confs, confThreshold, nmsThreshold)\n",
        "\n",
        "    for i in indices:\n",
        "\n",
        "        i = i\n",
        "        box = bbox[i]\n",
        "        x, y, w, h = box[0], box[1], box[2], box[3]\n",
        "        # print(x,y,w,h)\n",
        "\n",
        "        crop_img = img[y:y+h, x:x+w]\n",
        "        # print(len(crop_img))\n",
        "        if (x<=0 or y<=0 or w<=0 or h<=0):\n",
        "          print('crop_img is empty')\n",
        "        else:\n",
        "          gray_img = cv2.cvtColor(crop_img, cv2.COLOR_BGR2GRAY)\n",
        "          reader = easyocr.Reader(['en'])\n",
        "          result = reader.readtext(gray_img)\n",
        "          if(result[0][1]==[]):\n",
        "            print('empty')\n",
        "            return result_rmsp,4\n",
        "          else:\n",
        "            result_rmsp=remove_special_chars(result[0][1])\n",
        "            end=end+1\n",
        "            # print(end)\n",
        "            print(result_rmsp)\n",
        "            return result_rmsp,end"
      ],
      "metadata": {
        "id": "cxkX2ST9nxoN"
      },
      "execution_count": null,
      "outputs": []
    },
    {
      "cell_type": "code",
      "source": [
        "whT = 320\n",
        "confThreshold = 0.7\n",
        "nmsThreshold = 0.3\n",
        "task = 0\n",
        "resultarr=[]\n",
        "\n",
        "videopath = \"./test_videos/v\" + str(4) + \".mp4\"\n",
        "cap = cv2.VideoCapture(videopath)\n",
        "\n",
        "while True:\n",
        "    success, img = cap.read()\n",
        "    blob = cv2.dnn.blobFromImage(\n",
        "        img, 1/255, (whT, whT), [0, 0, 0], 1, crop=False)\n",
        "    net.setInput(blob)\n",
        "    layerNames = net.getLayerNames()\n",
        "\n",
        "    outputNames = [layerNames[i-1] for i in net.getUnconnectedOutLayers()]\n",
        "    outputs = net.forward(outputNames)\n",
        "    result,task = findObjects(outputs, img,task)\n",
        "    resultarr.append(result)\n",
        "    if(task==4):\n",
        "      break\n",
        "cap.release()"
      ],
      "metadata": {
        "id": "ePC-slMhoGOv",
        "colab": {
          "base_uri": "https://localhost:8080/"
        },
        "outputId": "e43cd7a7-de8f-482e-bb96-49e8c85b37b1"
      },
      "execution_count": null,
      "outputs": [
        {
          "output_type": "stream",
          "name": "stdout",
          "text": [
            "MHO1TC0502\n",
            "MH01TC0502\n",
            "MH01TC0502\n",
            "MhO1TC0502\n"
          ]
        }
      ]
    },
    {
      "cell_type": "code",
      "source": [
        "print(resultarr)\n",
        "final_detected = most_frequent_string(resultarr)\n",
        "current_time = datetime.datetime.now().strftime(\"%H:%M:%S\")\n",
        "final_detected=final_detected.upper()\n",
        "print(final_detected)"
      ],
      "metadata": {
        "id": "SiJEaV4n6JZm",
        "outputId": "0eb63906-4970-4381-af7a-4d60a715c540",
        "colab": {
          "base_uri": "https://localhost:8080/"
        }
      },
      "execution_count": null,
      "outputs": [
        {
          "output_type": "stream",
          "name": "stdout",
          "text": [
            "['MHO1TC0502', 'MH01TC0502', 'MH01TC0502', 'MhO1TC0502']\n",
            "MH01TC0502\n"
          ]
        }
      ]
    }
  ]
}